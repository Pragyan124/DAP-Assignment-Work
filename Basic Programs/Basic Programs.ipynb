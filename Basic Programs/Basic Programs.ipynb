{
 "cells": [
  {
   "cell_type": "code",
   "execution_count": 1,
   "id": "ee67abdd-19fb-43c0-bf61-5c855a4a1d5c",
   "metadata": {},
   "outputs": [
    {
     "name": "stdout",
     "output_type": "stream",
     "text": [
      "Enter the first number: 1\n",
      "Enter the second number: 2\n"
     ]
    },
    {
     "name": "stdout",
     "output_type": "stream",
     "text": [
      "the sum of input numbers is :3.0\n"
     ]
    }
   ],
   "source": [
    "num1=float(input('Enter the first number:'))\n",
    "num2=float(input('Enter the second number:'))\n",
    "sum=num1+num2\n",
    "print(f'the sum of input numbers is :{sum}')"
   ]
  },
  {
   "cell_type": "code",
   "execution_count": 3,
   "id": "52054359-7d1d-4323-b9f9-758dc022cd5b",
   "metadata": {},
   "outputs": [
    {
     "name": "stdout",
     "output_type": "stream",
     "text": [
      "Enter the first number 10\n",
      "Enter the second number 20\n"
     ]
    },
    {
     "name": "stdout",
     "output_type": "stream",
     "text": [
      "The maximum is:20.0\n"
     ]
    }
   ],
   "source": [
    "num1=float(input('Enter the first number'))\n",
    "num2=float(input('Enter the second number'))\n",
    "maximum=max(num1,num2)\n",
    "print(f'The maximum is:{maximum}')"
   ]
  },
  {
   "cell_type": "code",
   "execution_count": 6,
   "id": "3032258b-71e2-47a9-8723-1eb19c31140b",
   "metadata": {},
   "outputs": [
    {
     "name": "stdout",
     "output_type": "stream",
     "text": [
      "Enter the number: 10\n"
     ]
    },
    {
     "name": "stdout",
     "output_type": "stream",
     "text": [
      "The factorial of 10 is 3628800\n"
     ]
    }
   ],
   "source": [
    "num=int(input('Enter the number:'))\n",
    "factorial=1\n",
    "if num<0:\n",
    "  print('Factorial does not exist for negative numbers')\n",
    "elif num==0:\n",
    "  print('The factorial of 0 is 1')\n",
    "else:\n",
    "  for i in range(1,num+1):\n",
    "      factorial=factorial*i\n",
    "print('The factorial of',num,'is',factorial)"
   ]
  },
  {
   "cell_type": "code",
   "execution_count": 7,
   "id": "1d2b3536-fdb2-4be0-a607-d67bd21c96f6",
   "metadata": {},
   "outputs": [
    {
     "name": "stdout",
     "output_type": "stream",
     "text": [
      "Enter the principal amount: 500\n",
      "Enter the time : 4\n",
      "Enter the rate: 1\n"
     ]
    },
    {
     "name": "stdout",
     "output_type": "stream",
     "text": [
      "simple_interest is : 20.0\n"
     ]
    }
   ],
   "source": [
    "principal=float(input('Enter the principal amount:'))\n",
    "time=float(input('Enter the time :'))\n",
    "rate=float(input('Enter the rate:'))\n",
    "simple_interest=(principal*time*rate)/100\n",
    "print('simple_interest is :',simple_interest)"
   ]
  },
  {
   "cell_type": "code",
   "execution_count": 8,
   "id": "cda95f4d-c180-4515-a5c1-96750de540b9",
   "metadata": {},
   "outputs": [
    {
     "name": "stdout",
     "output_type": "stream",
     "text": [
      "Enter the principal amount: 5000\n",
      "Enter the annual rate of interest: 4\n",
      "Enter the time period in years: 2\n"
     ]
    },
    {
     "name": "stdout",
     "output_type": "stream",
     "text": [
      "Compound interest is 408.00000000000057\n"
     ]
    }
   ],
   "source": [
    "\n",
    "principal=float(input('Enter the principal amount:'))\n",
    "rate=float(input('Enter the annual rate of interest:'))\n",
    "time=float(input('Enter the time period in years:'))\n",
    "compound_interest=principal*((1+rate/100)**time-1)\n",
    "print('Compound interest is',compound_interest)"
   ]
  },
  {
   "cell_type": "code",
   "execution_count": 11,
   "id": "0860065e-6a1c-464d-9746-5224d20c19ce",
   "metadata": {},
   "outputs": [
    {
     "name": "stdout",
     "output_type": "stream",
     "text": [
      "Enter a number: 407\n"
     ]
    },
    {
     "name": "stdout",
     "output_type": "stream",
     "text": [
      "407 is an Armstrong number\n"
     ]
    }
   ],
   "source": [
    "num=int(input('Enter a number:'))\n",
    "sum=0\n",
    "temp=num\n",
    "while temp>0:\n",
    "    digit=temp % 10\n",
    "    sum+=digit**3\n",
    "    temp//=10\n",
    "if num==sum:\n",
    "    print(num,'is an Armstrong number')\n",
    "else:\n",
    "   print(num,'is not an Armstrong number')"
   ]
  },
  {
   "cell_type": "code",
   "execution_count": 12,
   "id": "0feaedcf-d1cc-4570-be35-d5ad0a8cd6a3",
   "metadata": {},
   "outputs": [
    {
     "name": "stdout",
     "output_type": "stream",
     "text": [
      "Enter the radius 4\n"
     ]
    },
    {
     "name": "stdout",
     "output_type": "stream",
     "text": [
      "The area of the circle50.265482\n"
     ]
    }
   ],
   "source": [
    "import math\n",
    "r=float(input('Enter the radius'))\n",
    "a=math.pi*(r**2)\n",
    "print(f'The area of the circle{a:2f}')"
   ]
  },
  {
   "cell_type": "code",
   "execution_count": null,
   "id": "31b762fd-de06-4cd3-9cd6-8c139d6d38aa",
   "metadata": {},
   "outputs": [],
   "source": []
  },
  {
   "cell_type": "code",
   "execution_count": null,
   "id": "a76a96ee-4b37-479f-9704-e92e24a3ed05",
   "metadata": {},
   "outputs": [],
   "source": [
    "lower=int(input('Enter the lower range'))\n",
    "upper=int(input('Enter the upper range'))\n",
    "for num in range (lower,upper+1):\n",
    "    if num>1:\n",
    "        for i in range(2,(num//2)+1):\n",
    "            if (num%i)==0:\n",
    "                break\n",
    "    else:\n",
    "        print(num,end='')"
   ]
  },
  {
   "cell_type": "code",
   "execution_count": null,
   "id": "29a00bb3-d755-4d91-837a-479dba4e1a58",
   "metadata": {},
   "outputs": [],
   "source": []
  },
  {
   "cell_type": "code",
   "execution_count": null,
   "id": "4f3033d8",
   "metadata": {},
   "outputs": [],
   "source": [
    "def is_prime(number):\n",
    "    # A prime number is a natural number greater than 1 that is not a product of two smaller natural numbers\n",
    "    if number > 1:\n",
    "        # Check for factors\n",
    "        for i in range(2, int(number**0.5) + 1):\n",
    "            if (number % i) == 0:\n",
    "                return False  # It is not a prime number\n",
    "        else:\n",
    "            return True  # It is a prime number\n",
    "    else:\n",
    "        return False  # It is not a prime number\n",
    "\n",
    "# Example usage\n",
    "num = int(input(\"Enter a number: \"))\n",
    "if is_prime(num):\n",
    "    print(f\"{num} is a prime number.\")\n",
    "else:\n",
    "    print(f\"{num} is not a prime number.\")\n"
   ]
  },
  {
   "cell_type": "code",
   "execution_count": null,
   "id": "83484f19-8043-4faf-9c74-06ff55b3b6dd",
   "metadata": {},
   "outputs": [],
   "source": []
  },
  {
   "cell_type": "code",
   "execution_count": null,
   "id": "ceabc66a",
   "metadata": {},
   "outputs": [],
   "source": [
    "def fibonacci(n):\n",
    "    if n <= 0:\n",
    "        return \"Invalid input. Please enter a positive integer.\"\n",
    "    elif n == 1:\n",
    "        return 0\n",
    "    elif n == 2:\n",
    "        return 1\n",
    "    else:\n",
    "        return fibonacci(n - 1) + fibonacci(n - 2)\n",
    "\n",
    "# Example usage\n",
    "num = int(input(\"Enter the value of n: \"))\n",
    "result = fibonacci(num)\n",
    "print(f\"The {num}-th Fibonacci number is: {result}\")\n",
    "\n"
   ]
  },
  {
   "cell_type": "code",
   "execution_count": null,
   "id": "410b1e81",
   "metadata": {},
   "outputs": [],
   "source": [
    "import math\n",
    "\n",
    "def is_perfect_square(num):\n",
    "    sqrt_num = int(math.sqrt(num))\n",
    "    return sqrt_num * sqrt_num == num\n",
    "\n",
    "def is_fibonacci(number):\n",
    "    # A number is a Fibonacci number if one of (5 * n^2 + 4) or (5 * n^2 - 4) is a perfect square\n",
    "    return is_perfect_square(5 * number * number + 4) or is_perfect_square(5 * number * number - 4)\n",
    "\n",
    "# Example usage\n",
    "num = int(input(\"Enter a number to check if it's a Fibonacci number: \"))\n",
    "if is_fibonacci(num):\n",
    "    print(f\"{num} is a Fibonacci number.\")\n",
    "else:\n",
    "    print(f\"{num} is not a Fibonacci number.\")\n"
   ]
  },
  {
   "cell_type": "code",
   "execution_count": null,
   "id": "91fdc45d",
   "metadata": {},
   "outputs": [],
   "source": [
    "def find_nth_multiple_in_fibonacci(n, multiple):\n",
    "    if n <= 0 or multiple <= 0:\n",
    "        return \"Invalid input. Please enter positive integers for n and multiple.\"\n",
    "\n",
    "    fibonacci_sequence = [0, 1]\n",
    "    while len(fibonacci_sequence) < n or fibonacci_sequence[-1] % multiple != 0:\n",
    "        next_number = fibonacci_sequence[-1] + fibonacci_sequence[-2]\n",
    "        fibonacci_sequence.append(next_number)\n",
    "\n",
    "    return fibonacci_sequence[n - 1]\n",
    "\n",
    "# Example usage\n",
    "n_value = int(input(\"Enter the value of n: \"))\n",
    "multiple_value = int(input(\"Enter the value of the multiple: \"))\n",
    "\n",
    "result = find_nth_multiple_in_fibonacci(n_value, multiple_value)\n",
    "print(f\"The {n_value}-th multiple of {multiple_value} in the Fibonacci series is: {result}\")\n"
   ]
  },
  {
   "cell_type": "code",
   "execution_count": null,
   "id": "8828745f",
   "metadata": {},
   "outputs": [],
   "source": [
    "# Program to print ASCII Value of a character\n",
    "\n",
    "# Input a character from the user\n",
    "char_input = input(\"Enter a character: \")\n",
    "\n",
    "# Ensure that a single character is entered\n",
    "if len(char_input) == 1:\n",
    "    # Get the ASCII value using ord() function\n",
    "    ascii_value = ord(char_input)\n",
    "    \n",
    "    # Print the result\n",
    "    print(f\"The ASCII value of '{char_input}' is: {ascii_value}\")\n",
    "else:\n",
    "    print(\"Please enter only a single character.\")\n"
   ]
  },
  {
   "cell_type": "code",
   "execution_count": null,
   "id": "ca638d9c",
   "metadata": {},
   "outputs": [],
   "source": [
    "def sum_of_squares(n):\n",
    "    if n <= 0:\n",
    "        return \"Please enter a positive integer for n.\"\n",
    "    else:\n",
    "        return (n * (n + 1) * (2 * n + 1)) // 6\n",
    "\n",
    "# Example usage\n",
    "n_value = int(input(\"Enter the value of n: \"))\n",
    "result = sum_of_squares(n_value)\n",
    "print(f\"The sum of squares of the first {n_value} natural numbers is: {result}\")\n"
   ]
  },
  {
   "cell_type": "code",
   "execution_count": null,
   "id": "aafaaf43",
   "metadata": {},
   "outputs": [],
   "source": [
    "def sum_of_cubes(n):\n",
    "    if n <= 0:\n",
    "        return \"Please enter a positive integer for n.\"\n",
    "    else:\n",
    "        return ((n * (n + 1)) // 2) ** 2\n",
    "\n",
    "# Example usage\n",
    "n_value = int(input(\"Enter the value of n: \"))\n",
    "result = sum_of_cubes(n_value)\n",
    "print(f\"The sum of cubes of the first {n_value} natural numbers is: {\n"
   ]
  }
 ],
 "metadata": {
  "kernelspec": {
   "display_name": "Python 3 (ipykernel)",
   "language": "python",
   "name": "python3"
  },
  "language_info": {
   "codemirror_mode": {
    "name": "ipython",
    "version": 3
   },
   "file_extension": ".py",
   "mimetype": "text/x-python",
   "name": "python",
   "nbconvert_exporter": "python",
   "pygments_lexer": "ipython3",
   "version": "3.12.1"
  }
 },
 "nbformat": 4,
 "nbformat_minor": 5
}
